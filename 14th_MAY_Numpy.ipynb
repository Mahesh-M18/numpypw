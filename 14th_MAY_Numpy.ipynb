{
 "cells": [
  {
   "cell_type": "markdown",
   "id": "483d75df-715d-466e-a28b-053781b3435e",
   "metadata": {},
   "source": [
    "1. What is a Python library? Why do we use Python libraries?"
   ]
  },
  {
   "cell_type": "markdown",
   "id": "e0de5c38-7181-4b00-bf31-3f06512f2dcb",
   "metadata": {},
   "source": [
    "A Python library is a collection of pre-written code and functions that can be imported and used in your Python programs. These libraries provide various functionalities, such as mathematical operations, data manipulation, web development, machine learning, and much more.\n",
    "\n",
    "We use Python libraries for several reasons:\n",
    "\n",
    "1. **Code Reusability**: Libraries contain pre-written code that can be reused in multiple projects, saving time and effort.\n",
    "\n",
    "2. **Efficiency**: Libraries often contain optimized code, making them more efficient than writing your own functions from scratch.\n",
    "\n",
    "3. **Functionality**: Libraries extend the capabilities of Python by providing specialized functions and tools for specific tasks, such as data analysis, image processing, or web scraping.\n",
    "\n",
    "4. **Community Support**: Many Python libraries are open source and have active communities of developers who contribute updates, bug fixes, and new features, providing valuable support to users.\n",
    "\n",
    "5. **Standardization**: By using widely adopted libraries, you can adhere to industry standards and best practices, improving the maintainability and compatibility of your code.\n",
    "\n",
    "Overall, Python libraries empower developers to build complex applications more quickly and efficiently by leveraging existing solutions and expertise from the broader Python community."
   ]
  },
  {
   "cell_type": "markdown",
   "id": "08da5297-3f8c-4046-8402-9b1db4ab37ff",
   "metadata": {},
   "source": [
    "2. What is the difference between Numpy array and List?"
   ]
  },
  {
   "cell_type": "markdown",
   "id": "fae75ff2-8105-4af6-a4ea-3150b0028444",
   "metadata": {},
   "source": [
    "NumPy arrays and Python lists are both used to store collections of data, but they have several differences in terms of functionality, performance, and usage:\n",
    "\n",
    "1. **Performance**: NumPy arrays are more efficient in terms of memory usage and computation speed compared to Python lists, especially for large datasets. This is because NumPy arrays are implemented in C and optimized for performance, whereas Python lists are dynamic arrays that store references to objects.\n",
    "\n",
    "2. **Data Types**: NumPy arrays can only store elements of the same data type, which leads to more efficient storage and operations. In contrast, Python lists can store elements of different data types within the same list.\n",
    "\n",
    "3. **Functionality**: NumPy arrays support a wide range of mathematical operations and array manipulations, such as element-wise operations, matrix operations, slicing, reshaping, and broadcasting. Python lists have fewer built-in functions and are generally less optimized for numerical computations.\n",
    "\n",
    "4. **Memory Management**: NumPy arrays have a fixed size upon creation, which makes memory management more efficient compared to Python lists, which can dynamically resize themselves as elements are added or removed.\n",
    "\n",
    "5. **Ease of Use**: Python lists are more flexible and easier to work with for general-purpose tasks, as they support a wider range of operations and can store heterogeneous data types. NumPy arrays are more specialized and optimized for numerical computing tasks.\n",
    "\n",
    "In summary, NumPy arrays are preferred for numerical computations and scientific computing tasks due to their efficiency and specialized functionality, while Python lists are more versatile and suitable for general-purpose programming tasks."
   ]
  },
  {
   "cell_type": "markdown",
   "id": "5e99d9f9-ec8c-49a9-8847-84e27a5ef832",
   "metadata": {},
   "source": [
    "3. Find the shape, size and dimension of the following array?\n",
    "[[1, 2, 3, 4]\n",
    "[5, 6, 7, 8],\n",
    "[9, 10, 11, 12]]"
   ]
  },
  {
   "cell_type": "code",
   "execution_count": 50,
   "id": "2bee1025-119b-4048-be76-816d7defa2b5",
   "metadata": {},
   "outputs": [
    {
     "name": "stdout",
     "output_type": "stream",
     "text": [
      "Array Shape -  (3, 4)\n",
      "Array Size -  12\n",
      "Array Dimension -  2\n"
     ]
    }
   ],
   "source": [
    "import numpy as np\n",
    "arr=np.array([[1, 2, 3, 4],[5, 6, 7, 8],[9, 10, 11, 12]])\n",
    "print(\"Array Shape - \",arr.shape)\n",
    "print(\"Array Size - \",arr.size)\n",
    "print(\"Array Dimension - \",arr.ndim)"
   ]
  },
  {
   "cell_type": "markdown",
   "id": "d7a0a98f-01f1-4e8f-a3ae-75d2d5a4bbf7",
   "metadata": {},
   "source": [
    "4. Write python code to access the first row of the following array?\n",
    "[[1, 2, 3, 4]\n",
    "[5, 6, 7, 8],\n",
    "[9, 10, 11, 12]]"
   ]
  },
  {
   "cell_type": "code",
   "execution_count": 51,
   "id": "56500437-2d80-44c4-b226-d52e1b67c537",
   "metadata": {},
   "outputs": [
    {
     "name": "stdout",
     "output_type": "stream",
     "text": [
      "[[ 1  2  3  4]\n",
      " [ 5  6  7  8]\n",
      " [ 9 10 11 12]]\n",
      "Array's first row -  [[1 2 3 4]]\n"
     ]
    }
   ],
   "source": [
    "import numpy as np\n",
    "arr=np.array([[1, 2, 3, 4],[5, 6, 7, 8],[9, 10, 11, 12]])\n",
    "print(arr)\n",
    "print(\"Array's first row - \",arr[[0]])"
   ]
  },
  {
   "cell_type": "markdown",
   "id": "95e3456e-f776-420e-895f-bc50b7eb403c",
   "metadata": {},
   "source": [
    "5. How do you access the element at the third row and fourth column from the given numpy array?\n",
    "[[1, 2, 3, 4]\n",
    "[5, 6, 7, 8],\n",
    "[9, 10, 11, 12]]"
   ]
  },
  {
   "cell_type": "code",
   "execution_count": 53,
   "id": "622064f5-e7c8-49f8-a00f-4401d693977a",
   "metadata": {},
   "outputs": [
    {
     "data": {
      "text/plain": [
       "12"
      ]
     },
     "execution_count": 53,
     "metadata": {},
     "output_type": "execute_result"
    }
   ],
   "source": [
    "import numpy as np\n",
    "arr=np.array([[1, 2, 3, 4],[5, 6, 7, 8],[9, 10, 11, 12]])\n",
    "arr[3-1,4-1]"
   ]
  },
  {
   "cell_type": "markdown",
   "id": "22d560b0-9146-4dcf-990b-81c228f274b3",
   "metadata": {},
   "source": [
    "6. Write code to extract all odd-indexed elements from the given numpy array?\n",
    "[[1, 2, 3, 4]\n",
    "[5, 6, 7, 8],\n",
    "[9, 10, 11, 12]]"
   ]
  },
  {
   "cell_type": "code",
   "execution_count": 54,
   "id": "715497b8-c021-4acb-8c8e-7dbda8d54d81",
   "metadata": {},
   "outputs": [
    {
     "data": {
      "text/plain": [
       "array([[6, 8]])"
      ]
     },
     "execution_count": 54,
     "metadata": {},
     "output_type": "execute_result"
    }
   ],
   "source": [
    "import numpy as np\n",
    "arr=np.array([[1, 2, 3, 4],[5, 6, 7, 8],[9, 10, 11, 12]])\n",
    "arr[1::2, 1::2]"
   ]
  },
  {
   "cell_type": "markdown",
   "id": "3d5cf4e3-8c70-40dc-98f9-c1b4f39b6bf9",
   "metadata": {},
   "source": [
    "7. How can you generate a random 3x3 matrix with values between 0 and 1?"
   ]
  },
  {
   "cell_type": "code",
   "execution_count": 55,
   "id": "c2a270e0-2907-45e6-8727-63ae5ca84f1d",
   "metadata": {},
   "outputs": [
    {
     "data": {
      "text/plain": [
       "array([[0.19306547, 0.8573183 , 0.73753131],\n",
       "       [0.04168346, 0.06353767, 0.90778072],\n",
       "       [0.55451782, 0.44278432, 0.77823233]])"
      ]
     },
     "execution_count": 55,
     "metadata": {},
     "output_type": "execute_result"
    }
   ],
   "source": [
    "import numpy as np\n",
    "np.random.rand(3,3)"
   ]
  },
  {
   "cell_type": "markdown",
   "id": "386f72da-56ba-4069-8fb5-2fdfc2fb70d7",
   "metadata": {},
   "source": [
    "8. Describe the difference between np.random.rand and np.random.randn?"
   ]
  },
  {
   "cell_type": "markdown",
   "id": "20c11026-59a1-4994-b67d-d2d9dcc2978e",
   "metadata": {},
   "source": [
    "`np.random.rand` and `np.random.randn` are both functions in NumPy's random module used to generate random numbers, but they have differences in how they generate these numbers and the distributions they sample from:\n",
    "\n",
    "1. **np.random.rand**:\n",
    "   - This function generates random numbers from a uniform distribution over the half-open interval [0, 1). It takes the shape of the output array as input and returns an array of random numbers with that shape.\n",
    "   - The numbers generated by `np.random.rand` are uniformly distributed between 0 and 1, meaning each value has an equal probability of being selected.\n",
    "   - Syntax: `np.random.rand(d0, d1, ..., dn)`\n",
    "   - Example: `np.random.rand(3, 3)` generates a 3x3 array of random numbers between 0 and 1.\n",
    "\n",
    "2. **np.random.randn**:\n",
    "   - This function generates random numbers from a standard normal distribution (also known as Gaussian distribution) with mean 0 and standard deviation 1. It takes the shape of the output array as input and returns an array of random numbers with that shape.\n",
    "   - The numbers generated by `np.random.randn` are not uniformly distributed; instead, they follow a bell-shaped curve centered around 0, with most values clustering near the mean and fewer values occurring further away.\n",
    "   - Syntax: `np.random.randn(d0, d1, ..., dn)`\n",
    "   - Example: `np.random.randn(3, 3)` generates a 3x3 array of random numbers from a standard normal distribution.\n",
    "\n",
    "In summary, `np.random.rand` generates random numbers from a uniform distribution over the interval [0, 1), while `np.random.randn` generates random numbers from a standard normal distribution with mean 0 and standard deviation 1. The choice between these functions depends on the specific distribution of random numbers needed for a particular application."
   ]
  },
  {
   "cell_type": "markdown",
   "id": "fbd4c018-d6bd-4965-af69-3ae2a16aa9c6",
   "metadata": {},
   "source": [
    "9. Write code to increase the dimension of the following array?\n",
    "[[1, 2, 3, 4]\n",
    "[5, 6, 7, 8],\n",
    "[9, 10, 11, 12]]"
   ]
  },
  {
   "cell_type": "code",
   "execution_count": 56,
   "id": "8edb4977-e9cc-45cc-8b3a-65d275b5ac12",
   "metadata": {},
   "outputs": [
    {
     "name": "stdout",
     "output_type": "stream",
     "text": [
      "[[ 1  2  3  4]\n",
      " [ 5  6  7  8]\n",
      " [ 9 10 11 12]]\n",
      "Present dimension -  2\n"
     ]
    }
   ],
   "source": [
    "import numpy as np\n",
    "arr=np.array([[1, 2, 3, 4],[5, 6, 7, 8],[9, 10, 11, 12]])\n",
    "print(arr)\n",
    "print(\"Present dimension - \",arr.ndim)"
   ]
  },
  {
   "cell_type": "code",
   "execution_count": 57,
   "id": "53e0f9f0-115f-4f07-8523-ce08120e3fc9",
   "metadata": {},
   "outputs": [
    {
     "name": "stdout",
     "output_type": "stream",
     "text": [
      "[[[ 1  2  3  4]\n",
      "  [ 5  6  7  8]\n",
      "  [ 9 10 11 12]]]\n",
      "Dimension increased to -  3\n"
     ]
    }
   ],
   "source": [
    "print(np.expand_dims(arr,0))\n",
    "#increasing row dimension\n",
    "print(\"Dimension increased to - \",(np.expand_dims(arr,0)).ndim)"
   ]
  },
  {
   "cell_type": "code",
   "execution_count": 58,
   "id": "f9420654-822d-46c2-aacb-380c9ec5ba7f",
   "metadata": {},
   "outputs": [
    {
     "name": "stdout",
     "output_type": "stream",
     "text": [
      "[[[ 1  2  3  4]]\n",
      "\n",
      " [[ 5  6  7  8]]\n",
      "\n",
      " [[ 9 10 11 12]]]\n",
      "Dimension increased to -  3\n"
     ]
    }
   ],
   "source": [
    "print(np.expand_dims(arr,1))\n",
    "#increasing column dimension\n",
    "print(\"Dimension increased to - \",(np.expand_dims(arr,1)).ndim)"
   ]
  },
  {
   "cell_type": "markdown",
   "id": "bc01027b-a299-4631-a3a3-f7c02b25b840",
   "metadata": {},
   "source": [
    "10. How to transpose the following array in NumPy?\n",
    "[[1, 2, 3, 4]\n",
    "[5, 6, 7, 8],\n",
    "[9, 10, 11, 12]]"
   ]
  },
  {
   "cell_type": "code",
   "execution_count": 59,
   "id": "f2e6a55a-28dc-47d9-92c6-b77f3a2adf72",
   "metadata": {},
   "outputs": [
    {
     "name": "stdout",
     "output_type": "stream",
     "text": [
      "Original array - \n",
      " [[ 1  2  3  4]\n",
      " [ 5  6  7  8]\n",
      " [ 9 10 11 12]]\n",
      "Transposed array - \n",
      " [[ 1  5  9]\n",
      " [ 2  6 10]\n",
      " [ 3  7 11]\n",
      " [ 4  8 12]]\n"
     ]
    }
   ],
   "source": [
    "import numpy as np\n",
    "arr=np.array([[1, 2, 3, 4],[5, 6, 7, 8],[9, 10, 11, 12]])\n",
    "print(\"Original array - \\n\",arr)\n",
    "print(\"Transposed array - \\n\",arr.T)"
   ]
  },
  {
   "cell_type": "markdown",
   "id": "558139e9-646e-4b09-a36c-4a01562cf48d",
   "metadata": {},
   "source": [
    "11. Consider the following matrix:\n",
    "Matrix A : [[1, 2, 3, 4] [5, 6, 7, 8],[9, 10, 11, 12]]\n",
    "Matrix B : [[1, 2, 3, 4] [5, 6, 7, 8],[9, 10, 11, 12]]\n",
    "Perform the following operation using Python:\n",
    "Index wise multiplication\n",
    "Matrix multiplication\n",
    "Add both the matrix\n",
    "Subtact matix B from A\n",
    "Divide Matix B by A"
   ]
  },
  {
   "cell_type": "code",
   "execution_count": 60,
   "id": "ba6aec3b-e822-47de-835a-a0602c45e0d4",
   "metadata": {},
   "outputs": [],
   "source": [
    "import numpy as np\n",
    "A=np.array([[1, 2, 3, 4],[5, 6, 7, 8],[9, 10, 11, 12]])\n",
    "B=np.array([[1, 2, 3, 4],[5, 6, 7, 8],[9, 10, 11, 12]])"
   ]
  },
  {
   "cell_type": "code",
   "execution_count": 61,
   "id": "b28fb8a9-1b91-48d6-a7a6-7040448f7ad4",
   "metadata": {},
   "outputs": [
    {
     "data": {
      "text/plain": [
       "array([[ 5, 10, 15, 20],\n",
       "       [25, 30, 35, 40],\n",
       "       [45, 50, 55, 60]])"
      ]
     },
     "execution_count": 61,
     "metadata": {},
     "output_type": "execute_result"
    }
   ],
   "source": [
    "#Index wise multiplication\n",
    "A*5"
   ]
  },
  {
   "cell_type": "code",
   "execution_count": 62,
   "id": "8dee6738-6eee-46df-854a-6ac763b9ec9b",
   "metadata": {},
   "outputs": [
    {
     "ename": "ValueError",
     "evalue": "matmul: Input operand 1 has a mismatch in its core dimension 0, with gufunc signature (n?,k),(k,m?)->(n?,m?) (size 3 is different from 4)",
     "output_type": "error",
     "traceback": [
      "\u001b[0;31m---------------------------------------------------------------------------\u001b[0m",
      "\u001b[0;31mValueError\u001b[0m                                Traceback (most recent call last)",
      "Cell \u001b[0;32mIn[62], line 2\u001b[0m\n\u001b[1;32m      1\u001b[0m \u001b[38;5;66;03m#matrix multiplication\u001b[39;00m\n\u001b[0;32m----> 2\u001b[0m \u001b[43mA\u001b[49m\u001b[38;5;129;43m@B\u001b[39;49m\n\u001b[1;32m      3\u001b[0m \u001b[38;5;66;03m# A - 3x4\u001b[39;00m\n\u001b[1;32m      4\u001b[0m \u001b[38;5;66;03m# B - 3x4\u001b[39;00m\n\u001b[1;32m      5\u001b[0m \u001b[38;5;66;03m#as number of columns in A matrix is not equal to number of rows in B matrix\u001b[39;00m\n\u001b[1;32m      6\u001b[0m \u001b[38;5;66;03m#matrix multiplication is not possible\u001b[39;00m\n\u001b[1;32m      7\u001b[0m \u001b[38;5;66;03m#A@B and B@A both are not possible\u001b[39;00m\n",
      "\u001b[0;31mValueError\u001b[0m: matmul: Input operand 1 has a mismatch in its core dimension 0, with gufunc signature (n?,k),(k,m?)->(n?,m?) (size 3 is different from 4)"
     ]
    }
   ],
   "source": [
    "#matrix multiplication\n",
    "A@B\n",
    "# A - 3x4\n",
    "# B - 3x4\n",
    "#as number of columns in A matrix is not equal to number of rows in B matrix\n",
    "#matrix multiplication is not possible\n",
    "#A@B and B@A both are not possible"
   ]
  },
  {
   "cell_type": "code",
   "execution_count": 63,
   "id": "67301ba0-d731-4e04-afa5-c1658bf8b331",
   "metadata": {},
   "outputs": [
    {
     "data": {
      "text/plain": [
       "array([[ 2,  4,  6,  8],\n",
       "       [10, 12, 14, 16],\n",
       "       [18, 20, 22, 24]])"
      ]
     },
     "execution_count": 63,
     "metadata": {},
     "output_type": "execute_result"
    }
   ],
   "source": [
    "#Add both the matrix\n",
    "A+B"
   ]
  },
  {
   "cell_type": "code",
   "execution_count": 64,
   "id": "69c295e2-718f-4461-a817-33c9933b85cf",
   "metadata": {},
   "outputs": [
    {
     "data": {
      "text/plain": [
       "array([[0, 0, 0, 0],\n",
       "       [0, 0, 0, 0],\n",
       "       [0, 0, 0, 0]])"
      ]
     },
     "execution_count": 64,
     "metadata": {},
     "output_type": "execute_result"
    }
   ],
   "source": [
    "#Subtact matix B from A\n",
    "B-A"
   ]
  },
  {
   "cell_type": "code",
   "execution_count": 65,
   "id": "13700714-6dcb-4ec5-90bb-fba390dbd0d6",
   "metadata": {},
   "outputs": [
    {
     "data": {
      "text/plain": [
       "array([[1., 1., 1., 1.],\n",
       "       [1., 1., 1., 1.],\n",
       "       [1., 1., 1., 1.]])"
      ]
     },
     "execution_count": 65,
     "metadata": {},
     "output_type": "execute_result"
    }
   ],
   "source": [
    "#Divide Matix B by A\n",
    "B/A"
   ]
  },
  {
   "cell_type": "markdown",
   "id": "53c5e768-2765-45df-9605-3fc947bb2432",
   "metadata": {},
   "source": [
    "12. Which function in Numpy can be used to swap the byte order of an array?"
   ]
  },
  {
   "cell_type": "code",
   "execution_count": 66,
   "id": "05ad7edf-c607-4b5e-9970-ea08277b1b77",
   "metadata": {},
   "outputs": [
    {
     "name": "stdout",
     "output_type": "stream",
     "text": [
      "Original array: [1 2 3 4]\n",
      "Swapped array: [ 72057594037927936 144115188075855872 216172782113783808\n",
      " 288230376151711744]\n"
     ]
    }
   ],
   "source": [
    "import numpy as np\n",
    "arr = np.array([1, 2, 3, 4])\n",
    "swapped_arr = arr.byteswap()\n",
    "print(\"Original array:\", arr)\n",
    "print(\"Swapped array:\", swapped_arr)"
   ]
  },
  {
   "cell_type": "markdown",
   "id": "280b315e-74ca-42c7-9e54-a54786e7ad61",
   "metadata": {},
   "source": [
    "13. What is the significance of the np.linalg.inv function?"
   ]
  },
  {
   "cell_type": "markdown",
   "id": "97bfbb79-8a03-40df-8fc5-71c0fd213705",
   "metadata": {},
   "source": [
    "The `np.linalg.inv` function in NumPy is used to compute the multiplicative inverse of a square matrix. In linear algebra, the multiplicative inverse (or matrix inverse) of a square matrix \\( A \\) is another matrix \\( A^{-1} \\) such that their product is the identity matrix \\( I \\), i.e., \\( A \\times A^{-1} = A^{-1} \\times A = I \\).\n",
    "\n",
    "The significance of `np.linalg.inv` lies in its applications in solving systems of linear equations and in various numerical methods in science and engineering. Some key applications include:\n",
    "\n",
    "1. **Solving Systems of Linear Equations**: Given a system of linear equations represented in matrix form \\( Ax = b \\), where \\( A \\) is the coefficient matrix, \\( x \\) is the vector of unknowns, and \\( b \\) is the right-hand side vector, you can solve for \\( x \\) by computing \\( x = A^{-1}b \\).\n",
    "\n",
    "2. **Least Squares Regression**: In linear regression analysis, when the ordinary least squares (OLS) method is used to fit a linear model to data, the coefficients can be computed using the matrix formula \\( \\beta = (X^T X)^{-1} X^T y \\), where \\( X \\) is the design matrix, \\( y \\) is the response vector, and \\( \\beta \\) is the vector of coefficients. Here, \\( (X^T X)^{-1} \\) is computed using `np.linalg.inv`.\n",
    "\n",
    "3. **Eigenvalue Problems**: The inverse of a matrix plays a crucial role in computing eigenvalues and eigenvectors. For example, the eigenvalues of a matrix \\( A \\) are the roots of the characteristic polynomial \\( \\det(A - \\lambda I) = 0 \\), and the eigenvectors corresponding to these eigenvalues can be computed using the formula \\( (A - \\lambda I)^{-1} \\), where \\( I \\) is the identity matrix.\n",
    "\n",
    "4. **Numerical Stability**: In numerical computations, the condition number of a matrix \\( A \\) provides a measure of how sensitive the solution is to changes in the input. When solving linear systems or computing matrix inverses, a high condition number can lead to numerical instability. `np.linalg.inv` can be used to assess the condition number and handle numerical stability issues.\n",
    "\n",
    "In summary, `np.linalg.inv` is a fundamental function in NumPy for computing the inverse of a matrix, and it has wide-ranging applications in various fields of science, engineering, and data analysis."
   ]
  },
  {
   "cell_type": "markdown",
   "id": "cca1b58a-6187-415b-813b-2f0fa27ed5f5",
   "metadata": {},
   "source": [
    "14. What does the np.reshape function do, and how is it used?"
   ]
  },
  {
   "cell_type": "markdown",
   "id": "93edd56e-8c46-49e1-9cd1-81da3b29e0c1",
   "metadata": {},
   "source": [
    "The np.reshape function in NumPy is used to change the shape of an array without changing its data. It allows you to rearrange the elements of an array into a new shape while preserving the same data."
   ]
  },
  {
   "cell_type": "code",
   "execution_count": 67,
   "id": "16874a2d-419a-4483-9284-b80001b766b5",
   "metadata": {},
   "outputs": [
    {
     "name": "stdout",
     "output_type": "stream",
     "text": [
      "Original array:\n",
      "[1 2 3 4 5 6]\n",
      "Reshaped array:\n",
      "[[1 2]\n",
      " [3 4]\n",
      " [5 6]]\n"
     ]
    }
   ],
   "source": [
    "import numpy as np\n",
    "arr = np.array([1, 2, 3, 4, 5, 6])\n",
    "reshaped_arr = np.reshape(arr, (3, 2))\n",
    "print(\"Original array:\")\n",
    "print(arr)\n",
    "print(\"Reshaped array:\")\n",
    "print(reshaped_arr)"
   ]
  },
  {
   "cell_type": "markdown",
   "id": "066efe81-4311-4cca-a228-30b047098180",
   "metadata": {},
   "source": [
    "15. What is broadcasting in Numpy?"
   ]
  },
  {
   "cell_type": "markdown",
   "id": "49d8d946-109d-4057-941d-325c68cbe5e5",
   "metadata": {},
   "source": [
    "Broadcasting in NumPy is a powerful mechanism that allows arrays of different shapes to be combined in arithmetic operations. It enables NumPy to perform element-wise operations between arrays with different shapes without explicitly creating multiple copies of the data. This makes operations more memory-efficient and allows for more concise and readable code.\n",
    "\n",
    "The basic idea behind broadcasting is to extend smaller arrays so that they have compatible shapes for arithmetic operations with larger arrays. Two arrays are compatible for broadcasting if their shapes are either equal or if one of them has a dimension of size 1. NumPy then automatically broadcasts the smaller array across the larger one to perform the operation.\n",
    "\n",
    "Here are the key rules of broadcasting in NumPy:\n",
    "\n",
    "1. **Dimensions Compatibility**: Arrays must have the same number of dimensions. If they have different numbers of dimensions, the shape of the smaller array is padded with ones on its left side until the numbers of dimensions match.\n",
    "\n",
    "2. **Size Compatibility**: The sizes of the corresponding dimensions must either be the same or one of them must be 1. If the sizes are not the same, NumPy will \"stretch\" the array with size 1 along that dimension to match the size of the other array.\n",
    "\n",
    "3. **Broadcasting Iteration**: After extending the arrays to have compatible shapes, NumPy performs element-wise operations by iterating over the dimensions. When an array has size 1 along a dimension, its values are effectively \"broadcast\" along that dimension during the operation.\n",
    "\n",
    "Broadcasting simplifies many common tasks in NumPy, such as adding a constant to every element of an array or multiplying two arrays with different shapes. It's a fundamental concept that underlies many of the operations in NumPy and contributes to its efficiency and versatility."
   ]
  }
 ],
 "metadata": {
  "kernelspec": {
   "display_name": "Python 3 (ipykernel)",
   "language": "python",
   "name": "python3"
  },
  "language_info": {
   "codemirror_mode": {
    "name": "ipython",
    "version": 3
   },
   "file_extension": ".py",
   "mimetype": "text/x-python",
   "name": "python",
   "nbconvert_exporter": "python",
   "pygments_lexer": "ipython3",
   "version": "3.10.8"
  }
 },
 "nbformat": 4,
 "nbformat_minor": 5
}
